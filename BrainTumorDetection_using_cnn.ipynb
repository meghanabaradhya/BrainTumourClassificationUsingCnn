{
  "nbformat": 4,
  "nbformat_minor": 0,
  "metadata": {
    "colab": {
      "name": "BrainTumorDetection_using cnn.ipynb",
      "provenance": [],
      "authorship_tag": "ABX9TyMQ2aO9kIrkcEGhn+qQ0/9M",
      "include_colab_link": true
    },
    "kernelspec": {
      "name": "python3",
      "display_name": "Python 3"
    }
  },
  "cells": [
    {
      "cell_type": "markdown",
      "metadata": {
        "id": "view-in-github",
        "colab_type": "text"
      },
      "source": [
        "<a href=\"https://colab.research.google.com/github/meghanabaradhya/BrainTumourClassificationUsingCnn/blob/main/BrainTumorDetection_using_cnn.ipynb\" target=\"_parent\"><img src=\"https://colab.research.google.com/assets/colab-badge.svg\" alt=\"Open In Colab\"/></a>"
      ]
    },
    {
      "cell_type": "code",
      "metadata": {
        "id": "2CoD_SvfTAlh"
      },
      "source": [
        "import tensorflow as tf\n",
        "from tensorflow.keras.layers import Conv2D, Input, ZeroPadding2D, BatchNormalization, Activation, MaxPooling2D, Flatten, Dense\n",
        "from tensorflow.keras.models import Model, load_model\n",
        "from tensorflow.keras.callbacks import TensorBoard, ModelCheckpoint\n",
        "from sklearn.model_selection import train_test_split\n",
        "from sklearn.metrics import f1_score\n",
        "from sklearn.utils import shuffle\n",
        "import cv2\n",
        "import imutils\n",
        "import numpy as np\n",
        "import matplotlib.pyplot as plt\n",
        "import time\n",
        "from os import listdir"
      ],
      "execution_count": 1,
      "outputs": []
    },
    {
      "cell_type": "code",
      "metadata": {
        "id": "RUny4h7PUnFt",
        "outputId": "45637feb-ec4a-44e4-8e68-d8c33ffce10f",
        "colab": {
          "base_uri": "https://localhost:8080/"
        }
      },
      "source": [
        "from google.colab import drive\n",
        "drive.mount('/content/gdrive')"
      ],
      "execution_count": 2,
      "outputs": [
        {
          "output_type": "stream",
          "text": [
            "Mounted at /content/gdrive\n"
          ],
          "name": "stdout"
        }
      ]
    },
    {
      "cell_type": "code",
      "metadata": {
        "id": "ShMluWyDUqjR",
        "outputId": "bd284c37-8a31-4a3d-d285-a40bcd6432bb",
        "colab": {
          "base_uri": "https://localhost:8080/"
        }
      },
      "source": [
        "mypath = \"/content/gdrive/My Drive/no/\"\n",
        "\n",
        "from os import listdir\n",
        "from os.path import isfile, join\n",
        "\n",
        "\n",
        "file_names = [f for f in listdir(mypath) if isfile(join(mypath, f))]\n",
        "print(str(len(file_names)) + ' images loaded')\n"
      ],
      "execution_count": 3,
      "outputs": [
        {
          "output_type": "stream",
          "text": [
            "98 images loaded\n"
          ],
          "name": "stdout"
        }
      ]
    },
    {
      "cell_type": "code",
      "metadata": {
        "id": "m3VAqc6GVDT2"
      },
      "source": [
        "no_len=len(file_names);\n",
        "\n",
        "import numpy as np\n",
        "training_images=[];\n",
        "testing_images=[];\n",
        "y_train=list()\n",
        "y_test=list()\n",
        "size=70;\n",
        "count=0;\n",
        "for  file in file_names:\n",
        "    image= cv2.imread(mypath+file)\n",
        "    #plt.imshow(image);\n",
        "    count+=1;\n",
        "    if(count<=80):\n",
        "      img = cv2.resize(image, (size, size), interpolation = cv2.INTER_AREA);\n",
        "      img = cv2.cvtColor(img, cv2.COLOR_BGR2GRAY);\n",
        "      img=img.flatten()\n",
        "      img=img.astype('float32');\n",
        "      x_new = img/ 255.\n",
        "      y_train.append(0);\n",
        "      training_images.append(x_new)\n",
        "      X_train=np.array(training_images)\n",
        "    else:\n",
        "      img = cv2.resize(image, (size, size), interpolation = cv2.INTER_AREA);\n",
        "      img = cv2.cvtColor(img, cv2.COLOR_BGR2GRAY);\n",
        "      img=img.flatten()\n",
        "      img=img.astype('float32');\n",
        "      x_new = img/ 255.\n",
        "      y_test.append(0)\n",
        "      testing_images.append(x_new)\n",
        "      X_test=np.array(testing_images)\n"
      ],
      "execution_count": 4,
      "outputs": []
    },
    {
      "cell_type": "code",
      "metadata": {
        "id": "-U2DhtlSZxhE",
        "outputId": "9f3dcf1f-be90-4dfa-9656-18e0ce1bfa98",
        "colab": {
          "base_uri": "https://localhost:8080/"
        }
      },
      "source": [
        "X_test.shape"
      ],
      "execution_count": 5,
      "outputs": [
        {
          "output_type": "execute_result",
          "data": {
            "text/plain": [
              "(18, 4900)"
            ]
          },
          "metadata": {
            "tags": []
          },
          "execution_count": 5
        }
      ]
    },
    {
      "cell_type": "code",
      "metadata": {
        "id": "C7IQ3S8dWYoL"
      },
      "source": [
        "y_train=list(y_train);\n",
        "y_test=list(y_test)"
      ],
      "execution_count": 6,
      "outputs": []
    },
    {
      "cell_type": "code",
      "metadata": {
        "id": "NjDYXPk5WzGZ",
        "outputId": "9da0915a-7867-4c8b-8012-2d4f393cd838",
        "colab": {
          "base_uri": "https://localhost:8080/"
        }
      },
      "source": [
        "mypath = \"/content/gdrive/My Drive/yes/\"\n",
        "\n",
        "from os import listdir\n",
        "from os.path import isfile, join\n",
        "\n",
        "\n",
        "file_names = [f for f in listdir(mypath) if isfile(join(mypath, f))]\n",
        "print(str(len(file_names)) + ' images loaded')\n"
      ],
      "execution_count": 7,
      "outputs": [
        {
          "output_type": "stream",
          "text": [
            "149 images loaded\n"
          ],
          "name": "stdout"
        }
      ]
    },
    {
      "cell_type": "code",
      "metadata": {
        "id": "xjzNULZgY2Q6"
      },
      "source": [
        "count=0;\n",
        "for  file in file_names:\n",
        "    image= cv2.imread(mypath+file)\n",
        "    #plt.imshow(image);\n",
        "    count+=1;\n",
        "    if(count<=120):\n",
        "      img = cv2.resize(image, (size, size), interpolation = cv2.INTER_AREA);\n",
        "      img = cv2.cvtColor(img, cv2.COLOR_BGR2GRAY);\n",
        "      img=img.flatten()\n",
        "      img=img.astype('float32');\n",
        "      x_new = img/ 255.\n",
        "      y_train.append(1);\n",
        "      training_images.append(x_new)\n",
        "      X_train=np.array(training_images)\n",
        "    else:\n",
        "      img = cv2.resize(image, (size, size), interpolation = cv2.INTER_AREA);\n",
        "      img = cv2.cvtColor(img, cv2.COLOR_BGR2GRAY);\n",
        "      img=img.flatten()\n",
        "      img=img.astype('float32');\n",
        "      x_new = img/ 255.\n",
        "      y_test.append(1)\n",
        "      testing_images.append(x_new)\n",
        "      X_test=np.array(testing_images)"
      ],
      "execution_count": 8,
      "outputs": []
    },
    {
      "cell_type": "code",
      "metadata": {
        "id": "746iDfYiZOB6"
      },
      "source": [
        "y_test=np.array(y_test).astype('float32')\n",
        "y_train=np.array(y_train).astype('float32')"
      ],
      "execution_count": 9,
      "outputs": []
    },
    {
      "cell_type": "code",
      "metadata": {
        "id": "fUvoGE7QVI8C"
      },
      "source": [
        "from keras.utils import np_utils\n",
        "\n",
        "\n",
        "## One hot encoding\n",
        "y_train = np_utils.to_categorical(y_train)\n",
        "y_test = np_utils.to_categorical(y_test)\n",
        "num_classes = y_test.shape[1]"
      ],
      "execution_count": 10,
      "outputs": []
    },
    {
      "cell_type": "code",
      "metadata": {
        "id": "YJfdiSFsb2MG"
      },
      "source": [
        "from keras.models import Sequential\n",
        "from keras.layers import Dense\n",
        "from keras.layers import Dropout\n",
        "from keras.utils import np_utils"
      ],
      "execution_count": 11,
      "outputs": []
    },
    {
      "cell_type": "code",
      "metadata": {
        "id": "PM4E-uigbVWl"
      },
      
      
    },
    {
      "cell_type": "code",
      "metadata": {
        "id": "O8t1cDJPb0NX"
      },
      "source": [
        "import keras\n",
        "import tensorflow as tf\n",
        "\n",
        {
          "output_type": "execute_result",
          "data": {
            "text/plain": [
              "<tensorflow.python.keras.callbacks.History at 0x7f505689fcc0>"
            ]
          },
          "metadata": {
            "tags": []
          },
          "execution_count": 14
        }
      ]
    },
    {
      "cell_type": "code",
      "metadata": {
        "id": "nHIBpWu-R0t-"
      },
      "source": [
        ""
      ],
      "execution_count": 14,
      "outputs": []
    },
    {
      "cell_type": "code",
      "metadata": {
        "id": "3L81q-zRdaPa"
      },
      "source": [
        ""
      ],
      "execution_count": 14,
      "outputs": []
    },
    {
      "cell_type": "code",
      "metadata": {
        "id": "wV_bjXBtoyt3"
      },
      "source": [
        ""
      ],
      "execution_count": 14,
      "outputs": []
    },
    {
      "cell_type": "code",
      "metadata": {
        "id": "fLuvwo-hpEav"
      },
      "source": [
        ""
      ],
      "execution_count": 14,
      "outputs": []
    },
    {
      "cell_type": "code",
      "metadata": {
        "id": "oSJkldQ6pH-H"
      },
      "source": [
        "img_rows=70;\n",
        "img_cols=70;\n",
        "X_train = X_train.reshape(X_train.shape[0], img_rows, img_cols, 1)\n",
        "X_test = X_test.reshape(X_test.shape[0], img_rows, img_cols, 1)"
      ],
      "execution_count": 15,
      "outputs": []
    },
    {
      "cell_type": "code",
      "metadata": {
        "id": "qOB5ImBoS0p3"
      },
      "source": [
        "num_classes=2;\n",
        "num_pixels=70*70\n",
        "input_shape = (img_rows, img_cols, 1)\n",
        "\n",
        "\n",
        "from keras.models import Sequential\n",
        "from keras.layers import Dense, Dropout, Flatten\n",
        "from keras.layers import Conv2D, MaxPooling2D,BatchNormalization\n",
        "from keras import backend\n",
        "\n",
        "\n",
        "Model=Sequential()\n",
        "Model.add(Conv2D(32,kernel_size=(3,3),activation='tanh',input_shape=input_shape))\n",
        "Model.add(BatchNormalization())\n",
        "Model.add(MaxPooling2D(pool_size=(2,2)))\n",
        "Model.add(Dropout(0.2))\n",
        "Model.add(Conv2D(64,kernel_size=(3,3),activation='relu'))\n",
        "Model.add(MaxPooling2D(pool_size=(2,2)))\n",
        "Model.add(Dropout(0.2))\n",
        "Model.add(Flatten())\n",
        "Model.add(Dense(256, activation='relu'))\n",
        "Model.add(Dropout(0.2))\n",
        "Model.add(Dense(64, activation='relu'))\n",
        "Model.add(Dense(num_classes, activation='softmax'))"
      ],
      "execution_count": 52,
      "outputs": []
    },
    {
      "cell_type": "code",
      "metadata": {
        "id": "mqGzDShvTajB"
      },
      "source": [
        "import keras\n",
        "\n",
        "Model.compile(loss='categorical_crossentropy',optimizer = keras.optimizers.Adam(learning_rate=0.0001),\n",
        "              metrics = ['accuracy'])"
      ],
      "execution_count": 53,
      "outputs": []
    },
    {
      "cell_type": "code",
      "metadata": {
        "id": "KR6EwKoOTlmv",
        "outputId": "892dbdea-c28c-4403-8657-82d679acb35f",
        "colab": {
          "base_uri": "https://localhost:8080/"
        }
      },
      "source": [
        "\n",
        "history = Model.fit(X_train, y_train,\n",
        "          batch_size=400,\n",
        "          epochs=50,\n",
        "          verbose=1,\n",
        "          validation_data=(X_test, y_test))"
      ],
      "execution_count": 54,
      "outputs": [
        {
          "output_type": "stream",
          "text": [
            "Epoch 1/50\n",
            "1/1 [==============================] - 0s 278ms/step - loss: 0.7602 - accuracy: 0.5800 - val_loss: 0.6650 - val_accuracy: 0.7234\n",
            "Epoch 2/50\n",
            "1/1 [==============================] - 0s 107ms/step - loss: 0.6341 - accuracy: 0.6900 - val_loss: 0.6403 - val_accuracy: 0.6170\n",
            "Epoch 3/50\n",
            "1/1 [==============================] - 0s 113ms/step - loss: 0.8030 - accuracy: 0.6800 - val_loss: 0.6489 - val_accuracy: 0.6596\n",
            "Epoch 4/50\n",
            "1/1 [==============================] - 0s 111ms/step - loss: 0.5468 - accuracy: 0.7600 - val_loss: 0.6659 - val_accuracy: 0.7872\n",
            "Epoch 5/50\n",
            "1/1 [==============================] - 0s 110ms/step - loss: 0.4960 - accuracy: 0.7750 - val_loss: 0.6701 - val_accuracy: 0.7447\n",
            "Epoch 6/50\n",
            "1/1 [==============================] - 0s 107ms/step - loss: 0.6187 - accuracy: 0.7050 - val_loss: 0.6610 - val_accuracy: 0.7660\n",
            "Epoch 7/50\n",
            "1/1 [==============================] - 0s 112ms/step - loss: 0.5106 - accuracy: 0.7450 - val_loss: 0.6528 - val_accuracy: 0.6809\n",
            "Epoch 8/50\n",
            "1/1 [==============================] - 0s 107ms/step - loss: 0.4693 - accuracy: 0.7850 - val_loss: 0.6471 - val_accuracy: 0.6596\n",
            "Epoch 9/50\n",
            "1/1 [==============================] - 0s 111ms/step - loss: 0.5211 - accuracy: 0.7950 - val_loss: 0.6459 - val_accuracy: 0.6596\n",
            "Epoch 10/50\n",
            "1/1 [==============================] - 0s 108ms/step - loss: 0.4810 - accuracy: 0.7750 - val_loss: 0.6475 - val_accuracy: 0.6596\n",
            "Epoch 11/50\n",
            "1/1 [==============================] - 0s 107ms/step - loss: 0.4455 - accuracy: 0.8150 - val_loss: 0.6510 - val_accuracy: 0.7234\n",
            "Epoch 12/50\n",
            "1/1 [==============================] - 0s 112ms/step - loss: 0.4073 - accuracy: 0.8200 - val_loss: 0.6547 - val_accuracy: 0.7660\n",
            "Epoch 13/50\n",
            "1/1 [==============================] - 0s 122ms/step - loss: 0.4240 - accuracy: 0.7800 - val_loss: 0.6564 - val_accuracy: 0.7447\n",
            "Epoch 14/50\n",
            "1/1 [==============================] - 0s 117ms/step - loss: 0.4641 - accuracy: 0.7950 - val_loss: 0.6556 - val_accuracy: 0.7660\n",
            "Epoch 15/50\n",
            "1/1 [==============================] - 0s 106ms/step - loss: 0.3743 - accuracy: 0.8550 - val_loss: 0.6528 - val_accuracy: 0.7234\n",
            "Epoch 16/50\n",
            "1/1 [==============================] - 0s 109ms/step - loss: 0.3810 - accuracy: 0.8400 - val_loss: 0.6520 - val_accuracy: 0.7234\n",
            "Epoch 17/50\n",
            "1/1 [==============================] - 0s 107ms/step - loss: 0.3832 - accuracy: 0.8200 - val_loss: 0.6528 - val_accuracy: 0.7234\n",
            "Epoch 18/50\n",
            "1/1 [==============================] - 0s 111ms/step - loss: 0.3672 - accuracy: 0.8250 - val_loss: 0.6552 - val_accuracy: 0.7234\n",
            "Epoch 19/50\n",
            "1/1 [==============================] - 0s 106ms/step - loss: 0.3315 - accuracy: 0.8550 - val_loss: 0.6574 - val_accuracy: 0.7660\n",
            "Epoch 20/50\n",
            "1/1 [==============================] - 0s 106ms/step - loss: 0.3267 - accuracy: 0.8650 - val_loss: 0.6601 - val_accuracy: 0.7872\n",
            "Epoch 21/50\n",
            "1/1 [==============================] - 0s 107ms/step - loss: 0.3103 - accuracy: 0.8700 - val_loss: 0.6619 - val_accuracy: 0.7660\n",
            "Epoch 22/50\n",
            "1/1 [==============================] - 0s 111ms/step - loss: 0.3451 - accuracy: 0.8200 - val_loss: 0.6626 - val_accuracy: 0.7660\n",
            "Epoch 23/50\n",
            "1/1 [==============================] - 0s 112ms/step - loss: 0.3186 - accuracy: 0.8200 - val_loss: 0.6617 - val_accuracy: 0.7660\n",
            "Epoch 24/50\n",
            "1/1 [==============================] - 0s 106ms/step - loss: 0.3061 - accuracy: 0.8450 - val_loss: 0.6603 - val_accuracy: 0.7872\n",
            "Epoch 25/50\n",
            "1/1 [==============================] - 0s 118ms/step - loss: 0.2936 - accuracy: 0.8700 - val_loss: 0.6589 - val_accuracy: 0.7872\n",
            "Epoch 26/50\n",
            "1/1 [==============================] - 0s 109ms/step - loss: 0.3101 - accuracy: 0.8700 - val_loss: 0.6595 - val_accuracy: 0.7872\n",
            "Epoch 27/50\n",
            "1/1 [==============================] - 0s 112ms/step - loss: 0.2633 - accuracy: 0.8800 - val_loss: 0.6621 - val_accuracy: 0.7872\n",
            "Epoch 28/50\n",
            "1/1 [==============================] - 0s 120ms/step - loss: 0.2500 - accuracy: 0.9050 - val_loss: 0.6625 - val_accuracy: 0.8511\n",
            "Epoch 29/50\n",
            "1/1 [==============================] - 0s 105ms/step - loss: 0.2649 - accuracy: 0.9150 - val_loss: 0.6590 - val_accuracy: 0.8298\n",
            "Epoch 30/50\n",
            "1/1 [==============================] - 0s 111ms/step - loss: 0.2564 - accuracy: 0.8850 - val_loss: 0.6537 - val_accuracy: 0.7872\n",
            "Epoch 31/50\n",
            "1/1 [==============================] - 0s 111ms/step - loss: 0.2769 - accuracy: 0.8850 - val_loss: 0.6494 - val_accuracy: 0.7660\n",
            "Epoch 32/50\n",
            "1/1 [==============================] - 0s 107ms/step - loss: 0.2671 - accuracy: 0.8950 - val_loss: 0.6470 - val_accuracy: 0.7872\n",
            "Epoch 33/50\n",
            "1/1 [==============================] - 0s 113ms/step - loss: 0.2574 - accuracy: 0.9000 - val_loss: 0.6482 - val_accuracy: 0.7447\n",
            "Epoch 34/50\n",
            "1/1 [==============================] - 0s 111ms/step - loss: 0.2400 - accuracy: 0.9050 - val_loss: 0.6512 - val_accuracy: 0.7872\n",
            "Epoch 35/50\n",
            "1/1 [==============================] - 0s 105ms/step - loss: 0.2016 - accuracy: 0.9150 - val_loss: 0.6538 - val_accuracy: 0.8298\n",
            "Epoch 36/50\n",
            "1/1 [==============================] - 0s 115ms/step - loss: 0.2152 - accuracy: 0.9300 - val_loss: 0.6531 - val_accuracy: 0.8085\n",
            "Epoch 37/50\n",
            "1/1 [==============================] - 0s 109ms/step - loss: 0.2037 - accuracy: 0.9100 - val_loss: 0.6495 - val_accuracy: 0.8085\n",
            "Epoch 38/50\n",
            "1/1 [==============================] - 0s 111ms/step - loss: 0.1947 - accuracy: 0.9300 - val_loss: 0.6455 - val_accuracy: 0.7660\n",
            "Epoch 39/50\n",
            "1/1 [==============================] - 0s 113ms/step - loss: 0.1895 - accuracy: 0.9200 - val_loss: 0.6425 - val_accuracy: 0.7660\n",
            "Epoch 40/50\n",
            "1/1 [==============================] - 0s 111ms/step - loss: 0.1820 - accuracy: 0.9450 - val_loss: 0.6411 - val_accuracy: 0.8085\n",
            "Epoch 41/50\n",
            "1/1 [==============================] - 0s 110ms/step - loss: 0.1549 - accuracy: 0.9450 - val_loss: 0.6389 - val_accuracy: 0.8085\n",
            "Epoch 42/50\n",
            "1/1 [==============================] - 0s 121ms/step - loss: 0.1622 - accuracy: 0.9500 - val_loss: 0.6361 - val_accuracy: 0.8085\n",
            "Epoch 43/50\n",
            "1/1 [==============================] - 0s 111ms/step - loss: 0.1540 - accuracy: 0.9550 - val_loss: 0.6322 - val_accuracy: 0.7872\n",
            "Epoch 44/50\n",
            "1/1 [==============================] - 0s 108ms/step - loss: 0.1443 - accuracy: 0.9250 - val_loss: 0.6290 - val_accuracy: 0.7872\n",
            "Epoch 45/50\n",
            "1/1 [==============================] - 0s 113ms/step - loss: 0.1287 - accuracy: 0.9550 - val_loss: 0.6259 - val_accuracy: 0.7872\n",
            "Epoch 46/50\n",
            "1/1 [==============================] - 0s 108ms/step - loss: 0.1219 - accuracy: 0.9700 - val_loss: 0.6247 - val_accuracy: 0.8085\n",
            "Epoch 47/50\n",
            "1/1 [==============================] - 0s 110ms/step - loss: 0.1047 - accuracy: 0.9700 - val_loss: 0.6228 - val_accuracy: 0.8085\n",
            "Epoch 48/50\n",
            "1/1 [==============================] - 0s 107ms/step - loss: 0.1145 - accuracy: 0.9600 - val_loss: 0.6220 - val_accuracy: 0.8085\n",
            "Epoch 49/50\n",
            "1/1 [==============================] - 0s 109ms/step - loss: 0.1260 - accuracy: 0.9700 - val_loss: 0.6209 - val_accuracy: 0.8085\n",
            "Epoch 50/50\n",
            "1/1 [==============================] - 0s 108ms/step - loss: 0.0996 - accuracy: 0.9700 - val_loss: 0.6191 - val_accuracy: 0.8085\n"
          ],
          "name": "stdout"
        }
      ]
    },
    {
      "cell_type": "code",
      "metadata": {
        "id": "z88qDwpLWwCu",
        "outputId": "fcd77364-7167-4c67-eee3-5525b0e63e96",
        "colab": {
          "base_uri": "https://localhost:8080/"
        }
      },
      "source": [
        "checkpoint = ModelCheckpoint(Model,\n",
        "                             monitor=\"val_accuracy\",\n",
        "                             mode=\"max\",\n",
        "                             save_best_only = True,\n",
        "                             verbose=1)\n",
        "callbacks = [checkpoint]\n",
        "\n"
      ],
      "execution_count": 60,
      "outputs": [
        {
          "output_type": "stream",
          "text": [
            "[<tensorflow.python.keras.callbacks.ModelCheckpoint object at 0x7f5052bd4e80>]\n"
          ],
          "name": "stdout"
        }
      ]
    },
    {
      "cell_type": "code",
      "metadata": {
        "id": "2uGSNlBTXD9h"
      },
      "source": [
        "from keras.callbacks import EarlyStopping\n",
        "\n",
        "earlystop = EarlyStopping(monitor = 'val_loss', # value being monitored for improvement\n",
        "                          min_delta = 0, #Abs value and is the min change required before we stop\n",
        "                          patience = 3, #Number of epochs we wait before stopping \n",
        "                          verbose = 1,\n",
        "                          restore_best_weights = True) #keeps the best weigths once stopped\n",
        "\n",
        "# we put our call backs into a callback list\n",
        "callbacks = [earlystop, checkpoint]"
      ],
      "execution_count": 67,
      "outputs": []
    },
    {
      "cell_type": "code",
      "metadata": {
        "id": "JWEppXmAXr2p",
        "outputId": "0e1ae19c-16b0-428c-9528-015b3923d151",
        "colab": {
          "base_uri": "https://localhost:8080/"
        }
      },
      "source": [
        "history = Model.fit(X_train, y_train,\n",
        "          batch_size=400,\n",
        "          epochs=50,\n",
        "          verbose=1,\n",
        "          validation_data=(X_test, y_test))"
      ],
      "execution_count": 70,
      "outputs": [
        {
          "output_type": "stream",
          "text": [
            "Epoch 1/50\n",
            "1/1 [==============================] - 0s 106ms/step - loss: 0.0991 - accuracy: 0.9850 - val_loss: 0.6129 - val_accuracy: 0.8511\n",
            "Epoch 2/50\n",
            "1/1 [==============================] - 0s 104ms/step - loss: 0.0801 - accuracy: 0.9800 - val_loss: 0.6099 - val_accuracy: 0.8511\n",
            "Epoch 3/50\n",
            "1/1 [==============================] - 0s 108ms/step - loss: 0.0591 - accuracy: 1.0000 - val_loss: 0.6067 - val_accuracy: 0.8511\n",
            "Epoch 4/50\n",
            "1/1 [==============================] - 0s 102ms/step - loss: 0.0771 - accuracy: 0.9850 - val_loss: 0.6044 - val_accuracy: 0.8511\n",
            "Epoch 5/50\n",
            "1/1 [==============================] - 0s 112ms/step - loss: 0.0687 - accuracy: 0.9900 - val_loss: 0.6038 - val_accuracy: 0.8723\n",
            "Epoch 6/50\n",
            "1/1 [==============================] - 0s 105ms/step - loss: 0.0736 - accuracy: 0.9850 - val_loss: 0.6024 - val_accuracy: 0.8723\n",
            "Epoch 7/50\n",
            "1/1 [==============================] - 0s 107ms/step - loss: 0.0750 - accuracy: 0.9800 - val_loss: 0.6002 - val_accuracy: 0.8723\n",
            "Epoch 8/50\n",
            "1/1 [==============================] - 0s 108ms/step - loss: 0.0676 - accuracy: 0.9850 - val_loss: 0.5939 - val_accuracy: 0.8723\n",
            "Epoch 9/50\n",
            "1/1 [==============================] - 0s 108ms/step - loss: 0.0551 - accuracy: 0.9900 - val_loss: 0.5870 - val_accuracy: 0.8298\n",
            "Epoch 10/50\n",
            "1/1 [==============================] - 0s 104ms/step - loss: 0.0620 - accuracy: 0.9800 - val_loss: 0.5841 - val_accuracy: 0.8511\n",
            "Epoch 11/50\n",
            "1/1 [==============================] - 0s 107ms/step - loss: 0.0712 - accuracy: 0.9700 - val_loss: 0.5851 - val_accuracy: 0.8511\n",
            "Epoch 12/50\n",
            "1/1 [==============================] - 0s 110ms/step - loss: 0.0449 - accuracy: 0.9900 - val_loss: 0.5877 - val_accuracy: 0.8723\n",
            "Epoch 13/50\n",
            "1/1 [==============================] - 0s 106ms/step - loss: 0.0603 - accuracy: 0.9850 - val_loss: 0.5913 - val_accuracy: 0.8723\n",
            "Epoch 14/50\n",
            "1/1 [==============================] - 0s 110ms/step - loss: 0.0530 - accuracy: 0.9900 - val_loss: 0.5907 - val_accuracy: 0.8723\n",
            "Epoch 15/50\n",
            "1/1 [==============================] - 0s 112ms/step - loss: 0.0574 - accuracy: 0.9950 - val_loss: 0.5842 - val_accuracy: 0.8723\n",
            "Epoch 16/50\n",
            "1/1 [==============================] - 0s 128ms/step - loss: 0.0497 - accuracy: 0.9900 - val_loss: 0.5777 - val_accuracy: 0.8511\n",
            "Epoch 17/50\n",
            "1/1 [==============================] - 0s 109ms/step - loss: 0.0521 - accuracy: 0.9850 - val_loss: 0.5738 - val_accuracy: 0.8298\n",
            "Epoch 18/50\n",
            "1/1 [==============================] - 0s 113ms/step - loss: 0.0536 - accuracy: 0.9900 - val_loss: 0.5751 - val_accuracy: 0.8723\n",
            "Epoch 19/50\n",
            "1/1 [==============================] - 0s 106ms/step - loss: 0.0417 - accuracy: 0.9950 - val_loss: 0.5761 - val_accuracy: 0.8723\n",
            "Epoch 20/50\n",
            "1/1 [==============================] - 0s 112ms/step - loss: 0.0569 - accuracy: 0.9850 - val_loss: 0.5747 - val_accuracy: 0.8723\n",
            "Epoch 21/50\n",
            "1/1 [==============================] - 0s 107ms/step - loss: 0.0378 - accuracy: 1.0000 - val_loss: 0.5727 - val_accuracy: 0.8723\n",
            "Epoch 22/50\n",
            "1/1 [==============================] - 0s 105ms/step - loss: 0.0448 - accuracy: 0.9900 - val_loss: 0.5662 - val_accuracy: 0.8723\n",
            "Epoch 23/50\n",
            "1/1 [==============================] - 0s 108ms/step - loss: 0.0312 - accuracy: 1.0000 - val_loss: 0.5587 - val_accuracy: 0.8723\n",
            "Epoch 24/50\n",
            "1/1 [==============================] - 0s 111ms/step - loss: 0.0465 - accuracy: 0.9850 - val_loss: 0.5543 - val_accuracy: 0.8511\n",
            "Epoch 25/50\n",
            "1/1 [==============================] - 0s 109ms/step - loss: 0.0381 - accuracy: 0.9850 - val_loss: 0.5530 - val_accuracy: 0.8723\n",
            "Epoch 26/50\n",
            "1/1 [==============================] - 0s 113ms/step - loss: 0.0268 - accuracy: 0.9950 - val_loss: 0.5543 - val_accuracy: 0.8723\n",
            "Epoch 27/50\n",
            "1/1 [==============================] - 0s 111ms/step - loss: 0.0456 - accuracy: 0.9850 - val_loss: 0.5568 - val_accuracy: 0.8723\n",
            "Epoch 28/50\n",
            "1/1 [==============================] - 0s 102ms/step - loss: 0.0250 - accuracy: 1.0000 - val_loss: 0.5569 - val_accuracy: 0.8723\n",
            "Epoch 29/50\n",
            "1/1 [==============================] - 0s 104ms/step - loss: 0.0424 - accuracy: 0.9900 - val_loss: 0.5540 - val_accuracy: 0.8723\n",
            "Epoch 30/50\n",
            "1/1 [==============================] - 0s 113ms/step - loss: 0.0340 - accuracy: 1.0000 - val_loss: 0.5505 - val_accuracy: 0.8723\n",
            "Epoch 31/50\n",
            "1/1 [==============================] - 0s 106ms/step - loss: 0.0252 - accuracy: 1.0000 - val_loss: 0.5495 - val_accuracy: 0.8723\n",
            "Epoch 32/50\n",
            "1/1 [==============================] - 0s 107ms/step - loss: 0.0263 - accuracy: 1.0000 - val_loss: 0.5504 - val_accuracy: 0.8723\n",
            "Epoch 33/50\n",
            "1/1 [==============================] - 0s 104ms/step - loss: 0.0291 - accuracy: 0.9950 - val_loss: 0.5545 - val_accuracy: 0.8723\n",
            "Epoch 34/50\n",
            "1/1 [==============================] - 0s 105ms/step - loss: 0.0231 - accuracy: 1.0000 - val_loss: 0.5566 - val_accuracy: 0.8723\n",
            "Epoch 35/50\n",
            "1/1 [==============================] - 0s 104ms/step - loss: 0.0234 - accuracy: 0.9950 - val_loss: 0.5570 - val_accuracy: 0.8723\n",
            "Epoch 36/50\n",
            "1/1 [==============================] - 0s 109ms/step - loss: 0.0205 - accuracy: 1.0000 - val_loss: 0.5548 - val_accuracy: 0.8723\n",
            "Epoch 37/50\n",
            "1/1 [==============================] - 0s 109ms/step - loss: 0.0235 - accuracy: 1.0000 - val_loss: 0.5501 - val_accuracy: 0.8936\n",
            "Epoch 38/50\n",
            "1/1 [==============================] - 0s 106ms/step - loss: 0.0203 - accuracy: 1.0000 - val_loss: 0.5454 - val_accuracy: 0.8936\n",
            "Epoch 39/50\n",
            "1/1 [==============================] - 0s 107ms/step - loss: 0.0230 - accuracy: 1.0000 - val_loss: 0.5419 - val_accuracy: 0.8936\n",
            "Epoch 40/50\n",
            "1/1 [==============================] - 0s 105ms/step - loss: 0.0221 - accuracy: 1.0000 - val_loss: 0.5372 - val_accuracy: 0.8936\n",
            "Epoch 41/50\n",
            "1/1 [==============================] - 0s 106ms/step - loss: 0.0202 - accuracy: 1.0000 - val_loss: 0.5331 - val_accuracy: 0.8723\n",
            "Epoch 42/50\n",
            "1/1 [==============================] - 0s 107ms/step - loss: 0.0162 - accuracy: 1.0000 - val_loss: 0.5304 - val_accuracy: 0.8936\n",
            "Epoch 43/50\n",
            "1/1 [==============================] - 0s 113ms/step - loss: 0.0206 - accuracy: 1.0000 - val_loss: 0.5297 - val_accuracy: 0.8936\n",
            "Epoch 44/50\n",
            "1/1 [==============================] - 0s 106ms/step - loss: 0.0148 - accuracy: 1.0000 - val_loss: 0.5292 - val_accuracy: 0.8936\n",
            "Epoch 45/50\n",
            "1/1 [==============================] - 0s 106ms/step - loss: 0.0240 - accuracy: 0.9950 - val_loss: 0.5274 - val_accuracy: 0.8936\n",
            "Epoch 46/50\n",
            "1/1 [==============================] - 0s 109ms/step - loss: 0.0221 - accuracy: 1.0000 - val_loss: 0.5254 - val_accuracy: 0.8936\n",
            "Epoch 47/50\n",
            "1/1 [==============================] - 0s 108ms/step - loss: 0.0184 - accuracy: 1.0000 - val_loss: 0.5224 - val_accuracy: 0.8936\n",
            "Epoch 48/50\n",
            "1/1 [==============================] - 0s 106ms/step - loss: 0.0127 - accuracy: 1.0000 - val_loss: 0.5204 - val_accuracy: 0.8936\n",
            "Epoch 49/50\n",
            "1/1 [==============================] - 0s 108ms/step - loss: 0.0191 - accuracy: 0.9950 - val_loss: 0.5193 - val_accuracy: 0.8936\n",
            "Epoch 50/50\n",
            "1/1 [==============================] - 0s 111ms/step - loss: 0.0131 - accuracy: 1.0000 - val_loss: 0.5186 - val_accuracy: 0.8936\n"
          ],
          "name": "stdout"
        }
      ]
    },
    {
      "cell_type": "code",
      "metadata": {
        "id": "GnsroEjmToLB",
        "outputId": "458857bd-e341-48a7-ca10-aa0df2b73aa6",
        "colab": {
          "base_uri": "https://localhost:8080/"
        }
      },
      "source": [
        "i=30\n",
        "img=X_test[i]\n",
        "new=img.reshape(1,70,70,1)\n",
        "\n",
        "res=Model.predict(new);\n",
        "print(res)\n",
        "print(y_test[i])\n"
      ],
      "execution_count": 71,
      "outputs": [
        {
          "output_type": "stream",
          "text": [
            "[[0.3419597 0.6580403]]\n",
            "[0. 1.]\n"
          ],
          "name": "stdout"
        }
      ]
    },
    {
      "cell_type": "code",
      "metadata": {
        "id": "PfTga16-UEZW"
      },
      "source": [
        "y_pred = Model.predict_classes(X_test)"
      ],
      "execution_count": 72,
      "outputs": []
    },
    {
      "cell_type": "code",
      "metadata": {
        "id": "hh8ngye9UtBM"
      },
      "source": [
        "from sklearn.metrics import classification_report,confusion_matrix\n",
        "import numpy as np"
      ],
      "execution_count": 73,
      "outputs": []
    },
    {
      "cell_type": "code",
      "metadata": {
        "id": "QaTOS-zCU5Sk",
        "outputId": "7363bbe9-38d0-43ed-dfa9-246a2668d521",
        "colab": {
          "base_uri": "https://localhost:8080/"
        }
      },
      "source": [
        "print(classification_report(np.argmax(y_test,axis=1), y_pred))\n",
        "print(confusion_matrix(np.argmax(y_test,axis=1), y_pred))"
      ],
      "execution_count": 74,
      "outputs": [
        {
          "output_type": "stream",
          "text": [
            "              precision    recall  f1-score   support\n",
            "\n",
            "           0       0.84      0.89      0.86        18\n",
            "           1       0.93      0.90      0.91        29\n",
            "\n",
            "    accuracy                           0.89        47\n",
            "   macro avg       0.89      0.89      0.89        47\n",
            "weighted avg       0.90      0.89      0.89        47\n",
            "\n",
            "[[16  2]\n",
            " [ 3 26]]\n"
          ],
          "name": "stdout"
        }
      ]
    },
    {
      "cell_type": "code",
      "metadata": {
        "id": "u9n3LUTrU7TH"
      },
      "source": [
        ""
      ],
      "execution_count": 22,
      "outputs": []
    }
  ]
}
